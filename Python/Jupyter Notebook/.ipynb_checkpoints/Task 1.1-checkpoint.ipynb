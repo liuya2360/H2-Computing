{
 "cells": [
  {
   "cell_type": "code",
   "execution_count": 4,
   "metadata": {},
   "outputs": [
    {
     "name": "stdout",
     "output_type": "stream",
     "text": [
      "Please input a single character: =\n",
      "Invalid input!\n",
      "Please input a single character: A\n",
      "A\n"
     ]
    }
   ],
   "source": [
    "#Task 1.1 \n",
    "while True: \n",
    "    letter = input(\"Please input a single character: \") \n",
    "    if (ord(letter) >= ord(\"a\") and ord(letter) <= ord(\"z\")) or (ord(letter) >= ord(\"A\") and ord(letter) <= ord(\"Z\")): \n",
    "        print(letter) \n",
    "        break\n",
    "    else: \n",
    "        print(\"Invalid input!\") "
   ]
  },
  {
   "cell_type": "code",
   "execution_count": 11,
   "metadata": {},
   "outputs": [
    {
     "name": "stdout",
     "output_type": "stream",
     "text": [
      "Letter d\n",
      "Denary 100\n",
      "Number Base 11\n",
      "91\n"
     ]
    }
   ],
   "source": [
    "#Task 1.2 \n",
    "def d2k(n, k): \n",
    "    mapping = \"0123456789ABCDEFGHIJKLMNOPQRSTUVWXYZ\" \n",
    "    res = \"\"\n",
    "    while n>0: \n",
    "        res = mapping[n%k] + res \n",
    "        n //= k \n",
    "    return res\n",
    "\n",
    "letter = input(\"Letter \")\n",
    "print(\"Denary \" + str(ord(letter)))\n",
    "base = input(\"Number Base \") \n",
    "if float(base)%1 == 0 and int(base) > 10 and int(base) < 15: \n",
    "    print(d2k(ord(letter), int(base)))"
   ]
  },
  {
   "cell_type": "code",
   "execution_count": 13,
   "metadata": {},
   "outputs": [
    {
     "ename": "NameError",
     "evalue": "name 'print_menu' is not defined",
     "output_type": "error",
     "traceback": [
      "\u001b[0;31m---------------------------------------------------------------------------\u001b[0m",
      "\u001b[0;31mNameError\u001b[0m                                 Traceback (most recent call last)",
      "\u001b[0;32m<ipython-input-13-849f0ed6d0f7>\u001b[0m in \u001b[0;36m<module>\u001b[0;34m\u001b[0m\n\u001b[1;32m      8\u001b[0m     \u001b[0;32mreturn\u001b[0m \u001b[0mres\u001b[0m\u001b[0;34m\u001b[0m\u001b[0;34m\u001b[0m\u001b[0m\n\u001b[1;32m      9\u001b[0m \u001b[0;34m\u001b[0m\u001b[0m\n\u001b[0;32m---> 10\u001b[0;31m \u001b[0mprint_menu\u001b[0m \u001b[0;34m==\u001b[0m \u001b[0;32mTrue\u001b[0m\u001b[0;34m\u001b[0m\u001b[0;34m\u001b[0m\u001b[0m\n\u001b[0m\u001b[1;32m     11\u001b[0m \u001b[0;32mwhile\u001b[0m \u001b[0;32mTrue\u001b[0m\u001b[0;34m:\u001b[0m\u001b[0;34m\u001b[0m\u001b[0;34m\u001b[0m\u001b[0m\n\u001b[1;32m     12\u001b[0m     \u001b[0;32mif\u001b[0m \u001b[0mprint_menu\u001b[0m\u001b[0;34m:\u001b[0m\u001b[0;34m\u001b[0m\u001b[0;34m\u001b[0m\u001b[0m\n",
      "\u001b[0;31mNameError\u001b[0m: name 'print_menu' is not defined"
     ]
    }
   ],
   "source": [
    "#Task 1.3 \n",
    "def d2k(n, k): \n",
    "    mapping = \"0123456789ABCDEFGHIJKLMNOPQRSTUVWXYZ\"\n",
    "    res = \"\"\n",
    "    while n > 0: \n",
    "        res = mapping[n%k] + res \n",
    "        n //= k \n",
    "    return res \n",
    "\n",
    "print_menu = True\n",
    "while True: \n",
    "    if print_menu: \n",
    "        print(\"1. Enter a letter\") \n",
    "        print(\"2. Convert to Denary\") \n",
    "        print(\"3. Convert to Base 11\") \n",
    "        print(\"4. Convert to Base 12\") \n",
    "        print(\"5. Convert to Base 13\") \n",
    "        print(\"6. Convert to Base 14\") \n",
    "        print(\"7. End\") \n",
    "        print_menu = False \n",
    "    choice = input()\n",
    "    if choice == \"7\": \n",
    "        break \n",
    "    elif choice == \"1\": \n",
    "        letter = input()\n",
    "    elif choice == \"2\": \n",
    "        print(ord(letter))\n",
    "    elif choice == \"3\": \n",
    "        print(d2k(ord(letter), 11)) \n",
    "    elif choice == \"4\": \n",
    "        print(d2k(ord(letter), 12)) \n",
    "    elif choice == \"5\": \n",
    "        print(d2k(ord(letter), 13)) \n",
    "    elif choice == \"6\": \n",
    "        print(d2k(ord(letter), 14))\n",
    "    else: \n",
    "        print(\"Invalid input!\")"
   ]
  },
  {
   "cell_type": "code",
   "execution_count": null,
   "metadata": {},
   "outputs": [],
   "source": []
  }
 ],
 "metadata": {
  "kernelspec": {
   "display_name": "Python 3",
   "language": "python",
   "name": "python3"
  },
  "language_info": {
   "codemirror_mode": {
    "name": "ipython",
    "version": 3
   },
   "file_extension": ".py",
   "mimetype": "text/x-python",
   "name": "python",
   "nbconvert_exporter": "python",
   "pygments_lexer": "ipython3",
   "version": "3.7.1"
  }
 },
 "nbformat": 4,
 "nbformat_minor": 2
}
