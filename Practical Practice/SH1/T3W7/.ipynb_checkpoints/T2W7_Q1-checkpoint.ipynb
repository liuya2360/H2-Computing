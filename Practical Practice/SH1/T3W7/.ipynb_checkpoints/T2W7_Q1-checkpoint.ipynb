{
 "cells": [
  {
   "cell_type": "code",
   "execution_count": 5,
   "metadata": {},
   "outputs": [],
   "source": [
    "#Task 1.1\n",
    "def ReadLog(): \n",
    "    log = []\n",
    "    fileHandle = open(\"WEBLOG.TXT\")\n",
    "    for row in fileHandle: \n",
    "        row = row.strip().split(\"|\")\n",
    "        log.append(row) \n",
    "    fileHandle.close()\n",
    "    return log"
   ]
  },
  {
   "cell_type": "code",
   "execution_count": 19,
   "metadata": {},
   "outputs": [
    {
     "name": "stdout",
     "output_type": "stream",
     "text": [
      "[0, 0]\n"
     ]
    },
    {
     "ename": "TypeError",
     "evalue": "can only concatenate str (not \"int\") to str",
     "output_type": "error",
     "traceback": [
      "\u001b[0;31m---------------------------------------------------------------------------\u001b[0m",
      "\u001b[0;31mTypeError\u001b[0m                                 Traceback (most recent call last)",
      "\u001b[0;32m<ipython-input-19-8890c4e02ae4>\u001b[0m in \u001b[0;36m<module>\u001b[0;34m\u001b[0m\n\u001b[1;32m     37\u001b[0m         \u001b[0mprint\u001b[0m\u001b[0;34m(\u001b[0m\u001b[0msumary\u001b[0m\u001b[0;34m[\u001b[0m\u001b[0;36m0\u001b[0m\u001b[0;34m]\u001b[0m\u001b[0;34m[\u001b[0m\u001b[0mi\u001b[0m\u001b[0;34m]\u001b[0m\u001b[0;34m)\u001b[0m\u001b[0;34m\u001b[0m\u001b[0;34m\u001b[0m\u001b[0m\n\u001b[1;32m     38\u001b[0m \u001b[0;34m\u001b[0m\u001b[0m\n\u001b[0;32m---> 39\u001b[0;31m \u001b[0mProcessLog\u001b[0m\u001b[0;34m(\u001b[0m\u001b[0mReadLog\u001b[0m\u001b[0;34m(\u001b[0m\u001b[0;34m)\u001b[0m\u001b[0;34m)\u001b[0m\u001b[0;34m\u001b[0m\u001b[0;34m\u001b[0m\u001b[0m\n\u001b[0m",
      "\u001b[0;32m<ipython-input-19-8890c4e02ae4>\u001b[0m in \u001b[0;36mProcessLog\u001b[0;34m(log)\u001b[0m\n\u001b[1;32m     32\u001b[0m             \u001b[0mmaxFreq\u001b[0m\u001b[0;34m.\u001b[0m\u001b[0mappend\u001b[0m\u001b[0;34m(\u001b[0m\u001b[0mi\u001b[0m\u001b[0;34m)\u001b[0m\u001b[0;34m\u001b[0m\u001b[0;34m\u001b[0m\u001b[0m\n\u001b[1;32m     33\u001b[0m     \u001b[0mprint\u001b[0m\u001b[0;34m(\u001b[0m\u001b[0mmaxFreq\u001b[0m\u001b[0;34m)\u001b[0m\u001b[0;34m\u001b[0m\u001b[0;34m\u001b[0m\u001b[0m\n\u001b[0;32m---> 34\u001b[0;31m     \u001b[0mprint\u001b[0m\u001b[0;34m(\u001b[0m\u001b[0;34m\"Highest frequency \\(days\\): \"\u001b[0m\u001b[0;34m+\u001b[0m \u001b[0mlen\u001b[0m\u001b[0;34m(\u001b[0m\u001b[0msumary\u001b[0m\u001b[0;34m[\u001b[0m\u001b[0;36m1\u001b[0m\u001b[0;34m]\u001b[0m\u001b[0;34m[\u001b[0m\u001b[0mmaxFreq\u001b[0m\u001b[0;34m[\u001b[0m\u001b[0;36m0\u001b[0m\u001b[0;34m]\u001b[0m\u001b[0;34m]\u001b[0m\u001b[0;34m)\u001b[0m\u001b[0;34m)\u001b[0m\u001b[0;34m\u001b[0m\u001b[0;34m\u001b[0m\u001b[0m\n\u001b[0m\u001b[1;32m     35\u001b[0m     \u001b[0mprint\u001b[0m\u001b[0;34m(\u001b[0m\u001b[0;34m\"Assessed by: \"\u001b[0m\u001b[0;34m)\u001b[0m\u001b[0;34m\u001b[0m\u001b[0;34m\u001b[0m\u001b[0m\n\u001b[1;32m     36\u001b[0m     \u001b[0;32mfor\u001b[0m \u001b[0mi\u001b[0m \u001b[0;32min\u001b[0m \u001b[0mrange\u001b[0m\u001b[0;34m(\u001b[0m\u001b[0mlen\u001b[0m\u001b[0;34m(\u001b[0m\u001b[0mmaxFreq\u001b[0m\u001b[0;34m)\u001b[0m\u001b[0;34m)\u001b[0m\u001b[0;34m:\u001b[0m\u001b[0;34m\u001b[0m\u001b[0;34m\u001b[0m\u001b[0m\n",
      "\u001b[0;31mTypeError\u001b[0m: can only concatenate str (not \"int\") to str"
     ]
    }
   ],
   "source": [
    "#Task 1.2\n",
    "def ProcessLog(log): \n",
    "    for i in range(len(log)): \n",
    "        log[i][1] = log[i][1][:log[i][1].index(\":\")] \n",
    "    sumary =[[] for i in range(2)] \n",
    "    for i in range(len(log)): \n",
    "        newPage = True\n",
    "        if i == 0: \n",
    "            sumary[0].append(log[i][0])\n",
    "            sumary[1].append([log[i][1]])\n",
    "            continue \n",
    "        for j in range(len(sumary[0])): \n",
    "            if sumary[0][j] == log[i][0]: \n",
    "                sumary[1][j].append(log[i][1])\n",
    "                newPage = False\n",
    "                break \n",
    "        if newPage: \n",
    "            sumary[0].append(log[i][0])\n",
    "            sumary[1].append([log[i][1]])\n",
    "    fileHandle = open(\"SUMARY.TXT\", \"w\")\n",
    "    for i in range(len(sumary[0])): \n",
    "        fileHandle.write(\"{0:25}\".format(sumary[0][i]) + \",\".join(sumary[1][i]) + \"\\n\")\n",
    "    fileHandle.close()\n",
    "    #print(sumary)\n",
    "    \n",
    "    #Task 1.3\n",
    "    maxFreq = []\n",
    "    for i in range(len(sumary[0])): \n",
    "        if len(maxFreq) == 0: \n",
    "            maxFreq.append(i)\n",
    "        elif len(sumary[1][i]) > len(sumary[1][maxFreq[0]]): \n",
    "            maxFreq = [i]\n",
    "        elif len(sumary[1][i]) == len(sumary[1][maxFreq[0]]): \n",
    "            maxFreq.append(i)\n",
    "    print(maxFreq)\n",
    "    print(\"Highest frequency \\(days\\): \"+ str(len(sumary[1][maxFreq[0]])))\n",
    "    print(\"Assessed by: \")\n",
    "    for i in range(len(maxFreq)): \n",
    "        print(sumary[0][i])\n",
    "\n",
    "ProcessLog(ReadLog())"
   ]
  },
  {
   "cell_type": "code",
   "execution_count": null,
   "metadata": {},
   "outputs": [],
   "source": []
  }
 ],
 "metadata": {
  "kernelspec": {
   "display_name": "Python 3",
   "language": "python",
   "name": "python3"
  },
  "language_info": {
   "codemirror_mode": {
    "name": "ipython",
    "version": 3
   },
   "file_extension": ".py",
   "mimetype": "text/x-python",
   "name": "python",
   "nbconvert_exporter": "python",
   "pygments_lexer": "ipython3",
   "version": "3.7.1"
  }
 },
 "nbformat": 4,
 "nbformat_minor": 2
}
