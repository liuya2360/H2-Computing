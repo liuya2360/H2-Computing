{
 "cells": [
  {
   "cell_type": "code",
   "execution_count": 1,
   "metadata": {},
   "outputs": [
    {
     "name": "stdout",
     "output_type": "stream",
     "text": [
      "b\n",
      "1\n",
      "0\n"
     ]
    }
   ],
   "source": [
    "class stack(): \n",
    "    def __init__(self): \n",
    "        self.items = [] \n",
    "    \n",
    "    def is_empty(self): \n",
    "        return len(self.items) == 0 \n",
    "    \n",
    "    def size(self): \n",
    "        return len(self.items) \n",
    "    \n",
    "    def push(self, item): \n",
    "        self.items.append(item) \n",
    "    \n",
    "    def peek(self): \n",
    "        if self.is_empty(): \n",
    "            return \"Stack is empty!\" \n",
    "        else: \n",
    "            return self.items(len(self.items)-1) \n",
    "    \n",
    "    def pop(self): \n",
    "        if self.is_empty(): \n",
    "            return \"Stack is empty!\" \n",
    "        else: \n",
    "            return self.items.pop() \n",
    "    def clear(self): \n",
    "        self.items.clear() \n",
    "\n",
    "'''\n",
    "my_stack = stack() \n",
    "my_stack.push(\"a\") \n",
    "my_stack.push(\"b\") \n",
    "print(my_stack.pop()) \n",
    "print(my_stack.size())\n",
    "my_stack.clear() \n",
    "print(my_stack.size()) \n",
    "'''"
   ]
  },
  {
   "cell_type": "code",
   "execution_count": 2,
   "metadata": {},
   "outputs": [],
   "source": [
    "def stack_cards(l): \n",
    "    s = stack() \n",
    "    for i in range(len(l)): \n",
    "        s.push(l)\n",
    "    return s "
   ]
  },
  {
   "cell_type": "code",
   "execution_count": null,
   "metadata": {},
   "outputs": [],
   "source": [
    "def cut(s, n): \n",
    "    new_stack = stack() \n",
    "    l = []\n",
    "    temp = []\n",
    "    for i in range(n): \n",
    "        temp = s.pop() + temp \n",
    "    l = \n",
    "    for i in range(s.size()): \n",
    "        "
   ]
  }
 ],
 "metadata": {
  "kernelspec": {
   "display_name": "Python 3",
   "language": "python",
   "name": "python3"
  },
  "language_info": {
   "codemirror_mode": {
    "name": "ipython",
    "version": 3
   },
   "file_extension": ".py",
   "mimetype": "text/x-python",
   "name": "python",
   "nbconvert_exporter": "python",
   "pygments_lexer": "ipython3",
   "version": "3.7.1"
  }
 },
 "nbformat": 4,
 "nbformat_minor": 2
}
