{
 "cells": [
  {
   "cell_type": "code",
   "execution_count": 12,
   "metadata": {},
   "outputs": [],
   "source": [
    "def repeats(s): \n",
    "    target = s[0]\n",
    "    count_max = 0 \n",
    "    count_temp = 0\n",
    "    for i in range(len(s)): \n",
    "        if s[i] == target: \n",
    "            count_temp += 1 \n",
    "        else: \n",
    "            if count_max < count_temp: \n",
    "                count_max = count_temp \n",
    "            count_temp = 0 \n",
    "    if count_max < count_temp: \n",
    "        count_max = count_temp \n",
    "    return count_max \n",
    "\n",
    "#print(repeats(\"aaaa\"))"
   ]
  },
  {
   "cell_type": "code",
   "execution_count": 16,
   "metadata": {},
   "outputs": [
    {
     "name": "stdout",
     "output_type": "stream",
     "text": [
      "a2ko4b\n"
     ]
    }
   ],
   "source": [
    "def str_short_itr(s): \n",
    "    count = 0 \n",
    "    result = s[0]  \n",
    "    target = s[0] \n",
    "    for i in range(len(s)): \n",
    "        if s[i] == target: \n",
    "            count += 1\n",
    "        else: \n",
    "            if count > 1: \n",
    "                result = result + str(count)\n",
    "            result = result + s[i] \n",
    "            target = s[i] \n",
    "            count = 1 \n",
    "    if count > 1: \n",
    "        result = result + str(count)\n",
    "    return result \n",
    "\n",
    "def str_short(s):\n",
    "    return s[0] + str_short_rec(s, 1, 1) \n",
    "    \n",
    "def str_short_rec(s, i, count): \n",
    "    if i == len(s): \n",
    "        if count > 1: \n",
    "            return str(count)\n",
    "        else: \n",
    "            return \"\"\n",
    "    elif s[i] == s[i-1]: \n",
    "        count += 1\n",
    "        return str_short_rec(s, i+1, count)\n",
    "    else: \n",
    "        if count > 1: \n",
    "            return str(count) + s[i] + str_short_rec(s, i+1, 1)\n",
    "        else: \n",
    "            return s[i] + str_short_rec(s, i+1, count)\n",
    "\n",
    "print(str_short(\"aaaabook\"))"
   ]
  },
  {
   "cell_type": "code",
   "execution_count": null,
   "metadata": {},
   "outputs": [],
   "source": [
    "with open(\"input.txt\") as f: \n",
    "    data = data.strip() \n",
    "\n",
    "with open(\"LIUYA.txt\") as f: \n",
    "    f.write(str_short(data)) "
   ]
  }
 ],
 "metadata": {
  "kernelspec": {
   "display_name": "Python 3",
   "language": "python",
   "name": "python3"
  },
  "language_info": {
   "codemirror_mode": {
    "name": "ipython",
    "version": 3
   },
   "file_extension": ".py",
   "mimetype": "text/x-python",
   "name": "python",
   "nbconvert_exporter": "python",
   "pygments_lexer": "ipython3",
   "version": "3.7.1"
  }
 },
 "nbformat": 4,
 "nbformat_minor": 2
}
