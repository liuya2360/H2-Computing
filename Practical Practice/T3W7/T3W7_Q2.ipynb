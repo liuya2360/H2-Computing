{
 "cells": [
  {
   "cell_type": "code",
   "execution_count": 7,
   "metadata": {},
   "outputs": [
    {
     "data": {
      "text/plain": [
       "'\\nprint(d2r(3))\\nprint(d2r(4))\\nprint(d2r(9))\\nprint(d2r(13))\\nprint(d2r(15))\\nprint(d2r(19))\\nprint(d2r(20))\\nprint(d2r(23))\\nprint(d2r(40))\\nprint(d2r(50))\\n'"
      ]
     },
     "execution_count": 7,
     "metadata": {},
     "output_type": "execute_result"
    }
   ],
   "source": [
    "#Task 4.1 \n",
    "def d2r(n): \n",
    "    res = \"\" \n",
    "    for i in range(n//50): \n",
    "        res = res+\"L\"\n",
    "        n -= 50\n",
    "    if n == 40: \n",
    "        return \"XL\"\n",
    "    for i in range(n//10): \n",
    "        res = res+\"X\" \n",
    "        n -= 10\n",
    "    if n == 9: \n",
    "        res = \"IX\"+res \n",
    "        return res\n",
    "    if n // 5 > 0: \n",
    "        res = res+\"V\" \n",
    "        n -= 5\n",
    "    if n % 5 == 4: \n",
    "        res = \"IV\"+res \n",
    "        return res\n",
    "    for i in range(n): \n",
    "        res = res+\"I\" \n",
    "    return res \n",
    "\n",
    "'''\n",
    "print(d2r(3))\n",
    "print(d2r(4))\n",
    "print(d2r(9))\n",
    "print(d2r(13))\n",
    "print(d2r(15))\n",
    "print(d2r(19))\n",
    "print(d2r(20))\n",
    "print(d2r(23))\n",
    "print(d2r(40))\n",
    "print(d2r(50))\n",
    "'''"
   ]
  },
  {
   "cell_type": "code",
   "execution_count": 11,
   "metadata": {},
   "outputs": [
    {
     "name": "stdout",
     "output_type": "stream",
     "text": [
      "XX\n",
      "XX\n",
      "XL\n"
     ]
    }
   ],
   "source": [
    "#Task 4.3\n",
    "def r2d(l): \n",
    "    res = 0\n",
    "    symbol = {\"I\":1, \"V\":5, \"X\":10, \"L\":50} \n",
    "    for i in range(len(l)-1, -1, -1): \n",
    "        less = False\n",
    "        if i != len(l)-1: \n",
    "            if symbol[l[i]] < symbol[l[i+1]]: \n",
    "                less = True\n",
    "        if less: \n",
    "            res -= symbol[l[i]] \n",
    "        else: \n",
    "            res += symbol[l[i]] \n",
    "    return res \n",
    "\n",
    "#print(r2d(\"XL\"))\n",
    "\n",
    "x = input()\n",
    "y = input()\n",
    "print(d2r(r2d(x)+r2d(y)))"
   ]
  },
  {
   "cell_type": "code",
   "execution_count": null,
   "metadata": {},
   "outputs": [],
   "source": []
  }
 ],
 "metadata": {
  "kernelspec": {
   "display_name": "Python 3",
   "language": "python",
   "name": "python3"
  },
  "language_info": {
   "codemirror_mode": {
    "name": "ipython",
    "version": 3
   },
   "file_extension": ".py",
   "mimetype": "text/x-python",
   "name": "python",
   "nbconvert_exporter": "python",
   "pygments_lexer": "ipython3",
   "version": "3.7.1"
  }
 },
 "nbformat": 4,
 "nbformat_minor": 2
}
