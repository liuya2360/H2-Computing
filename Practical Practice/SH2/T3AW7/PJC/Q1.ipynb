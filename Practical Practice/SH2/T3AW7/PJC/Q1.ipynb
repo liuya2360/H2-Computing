{
 "cells": [
  {
   "cell_type": "code",
   "execution_count": 6,
   "metadata": {},
   "outputs": [
    {
     "name": "stdout",
     "output_type": "stream",
     "text": [
      "Username            Password            Reasons for not meeting requirements\n",
      "ppchan              *AL[\"Z_O3           No lowercase letter. \n",
      "upbong              ^z\"5%1ha            No uppercase letter. \n",
      "nskong              88J6FBAD            No lowercase letter. No symbol. \n",
      "sulim               ]Lx\"xA!m            No digit. \n",
      "ocwong              IK1Z]3O             Less than 8 characters. No lowercase letter. \n",
      "ddmoorthy           iTipQqMD            No digit. No symbol. \n",
      "zlmaidin            ze7r>j?             Less than 8 characters. No uppercase letter. \n",
      "\n",
      "7 passwords do not meet requirements.\n"
     ]
    }
   ],
   "source": [
    "#Task 1.1 \n",
    "with open(\"ACCOUNTS.txt\") as f: \n",
    "    line = f.read() \n",
    "\n",
    "line = line.strip().split(\"\\n\") \n",
    "error_message = [\"Less than 8 characters. \", \"No uppercase letter. \", \"No lowercase letter. \", \"No digit. \", \"No symbol. \"] \n",
    "print(\"{:20}{:20}{}\".format(\"Username\", \"Password\", \"Reasons for not meeting requirements\"))\n",
    "error_count = 0 \n",
    "for row in line: \n",
    "    temp = row.strip().split(\" \") \n",
    "    password = temp[1] \n",
    "    error = [True for i in range(5)] \n",
    "    #check if at there are at least 8 characters \n",
    "    if len(password) >= 8: \n",
    "        error[0] = False \n",
    "    for i in password: \n",
    "        #check uppercase letter \n",
    "        asc = ord(i)\n",
    "        if asc >= ord(\"A\") and asc <= ord(\"Z\"): \n",
    "            error[1] = False  \n",
    "        #check lowercase letter \n",
    "        if asc >= ord(\"a\") and asc <= ord(\"z\"): \n",
    "            error[2] = False \n",
    "        #check digit \n",
    "        if asc >= ord(\"0\") and asc <= ord(\"9\"): \n",
    "            error[3] = False \n",
    "        #check symbol \n",
    "        if (asc>=33 and asc<=47) or (asc>=58 and asc<=64) or (asc>=91 and asc<=96) or (asc>=123 and asc<=126): \n",
    "            error[4] = False \n",
    "    \n",
    "    if True in error: \n",
    "        error_count += 1 \n",
    "        msg = \"\" \n",
    "        for i in range(5): \n",
    "            if error[i]: \n",
    "                msg = msg + error_message[i] \n",
    "        print(\"{:20}{:20}{}\".format(temp[0], password, msg))\n",
    "        \n",
    "print(\"\\n{} passwords do not meet requirements.\".format(error_count))"
   ]
  },
  {
   "cell_type": "code",
   "execution_count": null,
   "metadata": {},
   "outputs": [],
   "source": []
  }
 ],
 "metadata": {
  "kernelspec": {
   "display_name": "Python 3",
   "language": "python",
   "name": "python3"
  },
  "language_info": {
   "codemirror_mode": {
    "name": "ipython",
    "version": 3
   },
   "file_extension": ".py",
   "mimetype": "text/x-python",
   "name": "python",
   "nbconvert_exporter": "python",
   "pygments_lexer": "ipython3",
   "version": "3.6.4"
  }
 },
 "nbformat": 4,
 "nbformat_minor": 2
}
