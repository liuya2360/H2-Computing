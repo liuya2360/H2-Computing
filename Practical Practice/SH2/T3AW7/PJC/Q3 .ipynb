{
 "cells": [
  {
   "cell_type": "code",
   "execution_count": 59,
   "metadata": {},
   "outputs": [],
   "source": [
    "#Task 3.1 \n",
    "class Node(): \n",
    "    def __init__(self, data): \n",
    "        self.Word = data \n",
    "        self.Count = 0 \n",
    "        self.Pointer = None \n",
    "    \n",
    "class LinkedList(): \n",
    "    def __init__(self): \n",
    "        self.WordList = [Node(\"\") for i in range(20)]\n",
    "        for i in range(19): \n",
    "            self.WordList[i].Pointer = i+1 \n",
    "        self.WordList[19].Pointer = -1 \n",
    "        self.Start = -1  \n",
    "        self.NextFree = 0 \n",
    "        \n",
    "    def isEmpty(self): \n",
    "        return self.Start == -1 \n",
    "    \n",
    "    def isFull(self): \n",
    "        return self.NextFree == -1 \n",
    "        \n",
    "    def Display(self): \n",
    "        print(\"{:10}{:20}{:20}\".format(\"Index\", \"Content\", \"Pointer\"))\n",
    "        for i in range(20): \n",
    "            print(\"{:<10}{:<20}{:<20}\".format(i, self.WordList[i].Word, self.WordList[i].Pointer)) \n",
    "            \n",
    "    #Task 3.3 \n",
    "    def Insert(self, data): \n",
    "        if self.isEmpty(): \n",
    "            newNode = self.WordList[self.NextFree] \n",
    "            newNode.Word = data \n",
    "            newNode.Count = 1 \n",
    "            self.Start = self.NextFree \n",
    "            self.NextFree = newNode.Pointer \n",
    "            newNode.Pointer = -1 \n",
    "        else: \n",
    "            #check if the word already exists\n",
    "            found = False \n",
    "            for i in range(20): \n",
    "                if self.WordList[i].Word == data: \n",
    "                    self.WordList[i].Count += 1 \n",
    "                    found = True \n",
    "            # word does not exist in linked list \n",
    "            if not found: \n",
    "                newNode = self.WordList[self.NextFree] \n",
    "                newNode.Word = data \n",
    "                newNode.Count = 1 \n",
    "                #find the correct place to insert the newNode \n",
    "                current = self.WordList[self.Start] \n",
    "                #check if word should be inserted in the front \n",
    "                if current.Word > data: \n",
    "                    #the word should be inserted in front of Start \n",
    "                    newNextFree = newNode.Pointer \n",
    "                    newNode.Pointer = self.Start \n",
    "                    self.Start = self.NextFree \n",
    "                    self.NextFree = newNextFree \n",
    "                else: \n",
    "                    while current.Pointer != -1 and self.WordList[current.Pointer].Word < data: \n",
    "                        current = self.WordList[current.Pointer] \n",
    "                    if current.Pointer == -1: \n",
    "                        #when the new word should be linked to the end of the linked list \n",
    "                        current.Pointer = self.NextFree \n",
    "                        self.NextFree = newNode.Pointer \n",
    "                        newNode.Pointer = -1 \n",
    "                    else: \n",
    "                        #when the new word should be inserted inbetween two nodes \n",
    "                        newNodeIndex = self.NextFree \n",
    "                        self.NextFree = newNode.Pointer \n",
    "                        newNode.Pointer = current.Pointer \n",
    "                        current.Pointer = newNodeIndex \n",
    "    \n",
    "    def ReverseTraversal(self): \n",
    "        pass  \n",
    "\n",
    "\n"
   ]
  },
  {
   "cell_type": "code",
   "execution_count": 60,
   "metadata": {},
   "outputs": [
    {
     "name": "stdout",
     "output_type": "stream",
     "text": [
      "Index     Content             Pointer             \n",
      "0                             1                   \n",
      "1                             2                   \n",
      "2                             3                   \n",
      "3                             4                   \n",
      "4                             5                   \n",
      "5                             6                   \n",
      "6                             7                   \n",
      "7                             8                   \n",
      "8                             9                   \n",
      "9                             10                  \n",
      "10                            11                  \n",
      "11                            12                  \n",
      "12                            13                  \n",
      "13                            14                  \n",
      "14                            15                  \n",
      "15                            16                  \n",
      "16                            17                  \n",
      "17                            18                  \n",
      "18                            19                  \n",
      "19                            -1                  \n"
     ]
    }
   ],
   "source": [
    "#Task 3.2 \n",
    "LL = LinkedList() \n",
    "LL.Display() "
   ]
  },
  {
   "cell_type": "code",
   "execution_count": 62,
   "metadata": {},
   "outputs": [
    {
     "name": "stdout",
     "output_type": "stream",
     "text": [
      "Index     Content             Pointer             \n",
      "0         over                13                  \n",
      "1         onyx                0                   \n",
      "2         brown               8                   \n",
      "3         fox                 10                  \n",
      "4         gamma               15                  \n",
      "5         jump                6                   \n",
      "6         jumps               11                  \n",
      "7         dwarf               12                  \n",
      "8         dog                 7                   \n",
      "9         vixen               -1                  \n",
      "10        go                  19                  \n",
      "11        lazy                18                  \n",
      "12        fat                 3                   \n",
      "13        the                 9                   \n",
      "14        be                  2                   \n",
      "15        goblin              5                   \n",
      "16        beta                4                   \n",
      "17        above               16                  \n",
      "18        nightly             1                   \n",
      "19        alpha               14                  \n"
     ]
    }
   ],
   "source": [
    "#Task 3.4 \n",
    "with open(\"WORDTEXT.txt\") as f: \n",
    "    line = f.read() \n",
    "    \n",
    "line = line.strip().split(\" \") \n",
    "for word in line: \n",
    "    LL.Insert(word) \n",
    "LL.Display() "
   ]
  },
  {
   "cell_type": "code",
   "execution_count": null,
   "metadata": {},
   "outputs": [],
   "source": []
  }
 ],
 "metadata": {
  "kernelspec": {
   "display_name": "Python 3",
   "language": "python",
   "name": "python3"
  },
  "language_info": {
   "codemirror_mode": {
    "name": "ipython",
    "version": 3
   },
   "file_extension": ".py",
   "mimetype": "text/x-python",
   "name": "python",
   "nbconvert_exporter": "python",
   "pygments_lexer": "ipython3",
   "version": "3.6.4"
  }
 },
 "nbformat": 4,
 "nbformat_minor": 2
}
