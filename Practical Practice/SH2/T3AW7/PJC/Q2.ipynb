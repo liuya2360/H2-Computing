{
 "cells": [
  {
   "cell_type": "code",
   "execution_count": 1,
   "metadata": {},
   "outputs": [
    {
     "name": "stdout",
     "output_type": "stream",
     "text": [
      "1\n",
      "1\n",
      "2\n",
      "3\n",
      "5\n",
      "8\n",
      "13\n",
      "21\n",
      "34\n",
      "55\n",
      "89\n",
      "144\n",
      "233\n",
      "377\n",
      "610\n"
     ]
    }
   ],
   "source": [
    "#Task 2.1 \n",
    "def fib(n): \n",
    "    if n <= 0: \n",
    "        return False \n",
    "    elif n == 1: \n",
    "        return 1 \n",
    "    elif n == 2: \n",
    "        return 1 \n",
    "    else: \n",
    "        return fib(n-1)+fib(n-2) \n",
    "    \n",
    "for i in range(1, 16): \n",
    "    print(fib(i))"
   ]
  },
  {
   "cell_type": "code",
   "execution_count": 2,
   "metadata": {},
   "outputs": [
    {
     "name": "stdout",
     "output_type": "stream",
     "text": [
      "1\n",
      "1\n",
      "2\n",
      "3\n",
      "5\n",
      "8\n",
      "13\n",
      "21\n",
      "34\n",
      "55\n",
      "89\n",
      "144\n",
      "233\n",
      "377\n",
      "610\n"
     ]
    }
   ],
   "source": [
    "#Task 2.2 \n",
    "def fib_nr(n): \n",
    "    if n <= 0: \n",
    "        return False \n",
    "    elif n == 1: \n",
    "        return 1 \n",
    "    elif n == 2: \n",
    "        return 1 \n",
    "    else: \n",
    "        fib_list = [None, 1, 1] \n",
    "        for i in range(3, n+1): \n",
    "            fib_list.append(fib_list[i-1]+fib_list[i-2]) \n",
    "        return fib_list[n] \n",
    "\n",
    "for i in range(1, 16): \n",
    "    print(fib_nr(i))"
   ]
  },
  {
   "cell_type": "code",
   "execution_count": 14,
   "metadata": {},
   "outputs": [
    {
     "name": "stdout",
     "output_type": "stream",
     "text": [
      "Fibonacci(10) = 55, fib() is called 55 times. \n"
     ]
    }
   ],
   "source": [
    "#Task 2.3 \n",
    "def fib(n, k=0): \n",
    "    if n <= 0: \n",
    "        return False \n",
    "    elif n == 1: \n",
    "        return 1, 1 \n",
    "    elif n == 2: \n",
    "        return 1, 1 \n",
    "    else: \n",
    "        return fib(n-1)[0]+fib(n-2)[0], fib(n-1)[1]+fib(n-2)[1] \n",
    "    \n",
    "result = fib(10)\n",
    "print(\"Fibonacci({}) = {}. fib() is called {} times. \".format(\"10\", result[0], result[1]))\n",
    "#result = fib(30)\n",
    "#print(\"Fibonacci({}) = {}. fib() is called {} times. \".format(\"30\", result[0], result[1]))"
   ]
  },
  {
   "cell_type": "code",
   "execution_count": null,
   "metadata": {},
   "outputs": [],
   "source": [
    "#Evidence 6: \n",
    "#When using fib, each fibonacci number is calculated multiple times, which results in extra time required.\n",
    "#However, when using fib_nr, all the fibonacci number is only calculated once and then stored in a list, which saves much time. "
   ]
  }
 ],
 "metadata": {
  "kernelspec": {
   "display_name": "Python 3",
   "language": "python",
   "name": "python3"
  },
  "language_info": {
   "codemirror_mode": {
    "name": "ipython",
    "version": 3
   },
   "file_extension": ".py",
   "mimetype": "text/x-python",
   "name": "python",
   "nbconvert_exporter": "python",
   "pygments_lexer": "ipython3",
   "version": "3.6.4"
  }
 },
 "nbformat": 4,
 "nbformat_minor": 2
}
