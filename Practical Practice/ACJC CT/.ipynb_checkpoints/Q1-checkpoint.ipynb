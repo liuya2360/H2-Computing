{
 "cells": [
  {
   "cell_type": "code",
   "execution_count": 3,
   "metadata": {},
   "outputs": [
    {
     "name": "stdout",
     "output_type": "stream",
     "text": [
      "TGCA\n"
     ]
    }
   ],
   "source": [
    "def correspond(s): \n",
    "    check = {\"A\": \"T\", \"T\": \"A\", \"C\": \"G\", \"G\": \"C\"} \n",
    "    result = \"\" \n",
    "    for i in range(len(s)): \n",
    "        result = result + check[s[i]] \n",
    "    return result \n",
    "\n",
    "#print(correspond(\"ACGT\"))"
   ]
  },
  {
   "cell_type": "code",
   "execution_count": 6,
   "metadata": {},
   "outputs": [
    {
     "name": "stdout",
     "output_type": "stream",
     "text": [
      "Glutamic acid\n"
     ]
    }
   ],
   "source": [
    "def convert3(seq): \n",
    "    if seq[0] == \"G\": \n",
    "        if seq[1] == \"A\": \n",
    "            if seq[2] == \"T\" or seq[2] == \"C\": \n",
    "                return \"Aspartic acid\" \n",
    "            else: \n",
    "                return \"Glutamic acid\" \n",
    "        elif seq[1] == \"T\":\n",
    "            return \"Valine\" \n",
    "        elif seq[1] == \"C\": \n",
    "            return \"Alanine\" \n",
    "        else: \n",
    "            return \"Glycine\" \n",
    "    else: \n",
    "        return \"Other\" \n",
    "\n",
    "#print(convert3(\"GAA\"))"
   ]
  },
  {
   "cell_type": "code",
   "execution_count": 15,
   "metadata": {},
   "outputs": [
    {
     "name": "stdout",
     "output_type": "stream",
     "text": [
      "1\n"
     ]
    }
   ],
   "source": [
    "def count_amino(s, amino): \n",
    "    check = {\"Leucine\": [\"TTA\",\"TTG\",\"CTT\",\"CTC\",\"CTA\",\"CTG\"], \n",
    "            \"Serine\": [\"TCT\",\"TCC\",\"TCA\",\"TCG\",\"AGT\",\"AGC\"], \n",
    "            \"Arginine\": [\"CGT\",\"CGC\",\"CGA\",\"CGG\",\"AGA\",\"AGG\"]}\n",
    "    count = 0 \n",
    "    for i in range(0, len(s), 3): \n",
    "        if s[i:i+3] in check[amino]: \n",
    "            count += 1\n",
    "    return count \n",
    "\n",
    "#print(count_amino(\"TTATTTATA\",\"Leucine\"))"
   ]
  },
  {
   "cell_type": "code",
   "execution_count": 19,
   "metadata": {},
   "outputs": [
    {
     "name": "stdout",
     "output_type": "stream",
     "text": [
      "['a', 'aa', 'aaa', 'aaaa']\n"
     ]
    }
   ],
   "source": [
    "def sort_by_length(lis): \n",
    "    for i in range(len(lis)-1): \n",
    "        swap = False \n",
    "        for j in range(len(lis)-1-i): \n",
    "            if len(lis[j]) > len(lis[j+1]): \n",
    "                lis[j], lis[j+1] = lis[j+1], lis[j] \n",
    "                swap = True  \n",
    "        if not swap: \n",
    "            break \n",
    "    return lis \n",
    "\n",
    "#print(sort_by_length([\"aaaa\",\"aa\",\"aaa\",\"a\"]))"
   ]
  },
  {
   "cell_type": "code",
   "execution_count": null,
   "metadata": {},
   "outputs": [],
   "source": []
  }
 ],
 "metadata": {
  "kernelspec": {
   "display_name": "Python 3",
   "language": "python",
   "name": "python3"
  },
  "language_info": {
   "codemirror_mode": {
    "name": "ipython",
    "version": 3
   },
   "file_extension": ".py",
   "mimetype": "text/x-python",
   "name": "python",
   "nbconvert_exporter": "python",
   "pygments_lexer": "ipython3",
   "version": "3.7.1"
  }
 },
 "nbformat": 4,
 "nbformat_minor": 2
}
